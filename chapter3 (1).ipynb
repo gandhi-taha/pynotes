{
 "cells": [
  {
   "cell_type": "markdown",
   "metadata": {},
   "source": [
    "< - less than\n",
    "<= - less than or equal to\n",
    "> - greater than\n",
    ">= - greater than or equal to\n",
    "== - equal to # not to be confused with the\n",
    "!= - not equal to # assignment operator '='\n",
    "1 < 2 # => True\n",
    "1 <= 1 # => True\n",
    "1 > 2 # => False\n",
    "1 >= 1 # => True\n",
    "1 == 1.1 # => False\n",
    "1 == 1.0 # => True"
   ]
  },
  {
   "cell_type": "markdown",
   "metadata": {},
   "source": [
    "Logical Operator \n",
    "\n",
    "To form complex conditions, one can use the logical operators and, or and not. Round brackets\n",
    "can be used to avoid ambiguities:\n",
    "\n",
    "(B1 and B2) evaluates to true if both subconditions are fulfilled;\n",
    "\n",
    "(B1 or B2) evaluates to true if one of the two subconditions is fulfilled and\n",
    "\n",
    "not(B) reverses the (truth) value to which B evaluates.\n",
    "\n"
   ]
  },
  {
   "cell_type": "markdown",
   "metadata": {},
   "source": [
    "False\n",
    "\n",
    "\n",
    "In Python, as long as a condition does not evaluate to False it is considered to be fulfilled or true.\n",
    "The following expression evaluate to False:\n",
    "• False,\n",
    "• the numerical null values 0, 0L, 0.0, 0.0+0.0j,\n",
    "• the empty string,\n",
    "• the empty list and the empty tuple,\n",
    "• an empty dictionary and\n",
    "• the value NONE.\n"
   ]
  },
  {
   "cell_type": "markdown",
   "metadata": {},
   "source": [
    "Not & Not in \n",
    "\n",
    "The operators in and not in can be used to check whether a sequence (list, tuple) contains a\n",
    "certain element or not:\n",
    "\n"
   ]
  },
  {
   "cell_type": "code",
   "execution_count": null,
   "metadata": {},
   "outputs": [],
   "source": [
    "bundesliga = ['Schalke', 'Gladbach', 'Dortmund', 'Bayern', 'Bremen']\n",
    "print('Gladbach' in bundesliga)\n"
   ]
  },
  {
   "cell_type": "code",
   "execution_count": 8,
   "metadata": {},
   "outputs": [
    {
     "data": {
      "text/plain": [
       "True"
      ]
     },
     "execution_count": 8,
     "metadata": {},
     "output_type": "execute_result"
    }
   ],
   "source": [
    "x=\"Hello world\"\n",
    "x.startswith(\"Hello\") #checks whether the string starts with the string t\n"
   ]
  },
  {
   "cell_type": "code",
   "execution_count": 9,
   "metadata": {},
   "outputs": [
    {
     "data": {
      "text/plain": [
       "True"
      ]
     },
     "execution_count": 9,
     "metadata": {},
     "output_type": "execute_result"
    }
   ],
   "source": [
    "x.endswith(\"d\")   #checks whether the string ends with t"
   ]
  },
  {
   "cell_type": "code",
   "execution_count": 11,
   "metadata": {},
   "outputs": [
    {
     "data": {
      "text/plain": [
       "False"
      ]
     },
     "execution_count": 11,
     "metadata": {},
     "output_type": "execute_result"
    }
   ],
   "source": [
    "\"h\" in x  #checks whether the string s contains t as a substring\n"
   ]
  },
  {
   "cell_type": "code",
   "execution_count": 14,
   "metadata": {},
   "outputs": [
    {
     "data": {
      "text/plain": [
       "False"
      ]
     },
     "execution_count": 14,
     "metadata": {},
     "output_type": "execute_result"
    }
   ],
   "source": [
    "x.islower() #checks whether the string consists only of lowercase letters\n",
    "\n",
    "x.isupper()   #checks whether the string consists only of uppercase letters\n"
   ]
  },
  {
   "cell_type": "code",
   "execution_count": 15,
   "metadata": {},
   "outputs": [
    {
     "data": {
      "text/plain": [
       "False"
      ]
     },
     "execution_count": 15,
     "metadata": {},
     "output_type": "execute_result"
    }
   ],
   "source": [
    "x.isalpha()   #checks whether the string consists only of letters/word characters"
   ]
  },
  {
   "cell_type": "code",
   "execution_count": 19,
   "metadata": {},
   "outputs": [
    {
     "data": {
      "text/plain": [
       "False"
      ]
     },
     "execution_count": 19,
     "metadata": {},
     "output_type": "execute_result"
    }
   ],
   "source": [
    "x.isalnum()   "
   ]
  },
  {
   "cell_type": "markdown",
   "metadata": {},
   "source": [
    "#This method checks if all characters in a string are alphanumeric, meaning they are either alphabetic (letters) or numeric (digits).\n"
   ]
  },
  {
   "cell_type": "code",
   "execution_count": 20,
   "metadata": {},
   "outputs": [
    {
     "data": {
      "text/plain": [
       "False"
      ]
     },
     "execution_count": 20,
     "metadata": {},
     "output_type": "execute_result"
    }
   ],
   "source": [
    "x.isdigit() #checks whether the string consists only of digits"
   ]
  },
  {
   "cell_type": "code",
   "execution_count": 18,
   "metadata": {},
   "outputs": [
    {
     "data": {
      "text/plain": [
       "False"
      ]
     },
     "execution_count": 18,
     "metadata": {},
     "output_type": "execute_result"
    }
   ],
   "source": [
    "x.istitle() #checks whether the string starts with a capital letter"
   ]
  },
  {
   "cell_type": "code",
   "execution_count": null,
   "metadata": {},
   "outputs": [],
   "source": [
    "towns = list(input(\"List?\"))\n",
    "#type in a list of towns e.g. [\"Berlin\", \"Ulm\", \"Frankfurt\", \"Stuttgart\"]"
   ]
  },
  {
   "cell_type": "markdown",
   "metadata": {},
   "source": [
    "Continue and Break in for and while loop "
   ]
  },
  {
   "cell_type": "code",
   "execution_count": 22,
   "metadata": {},
   "outputs": [
    {
     "name": "stdout",
     "output_type": "stream",
     "text": [
      "I like Taylor Swift, too!\n"
     ]
    }
   ],
   "source": [
    "prompt = \"\\nType in the Name of a singer you like:\"\n",
    "prompt += \"\\n(Type in 'quit' to terminate the program.) \"\n",
    "while True:\n",
    "    singer : str = input(prompt)\n",
    "    if singer == 'quit':\n",
    "        break\n",
    "    else:\n",
    "        print(\"I like \" + singer.title() + \", too!\")"
   ]
  },
  {
   "cell_type": "markdown",
   "metadata": {},
   "source": [
    "Instead of exiting the loop completely, it can sometimes be useful to skip the current iteration or\n",
    "execution of the code block. The continue statement is used for this purpose. The next program\n",
    "computes the first 5 positive even natural numbers:"
   ]
  },
  {
   "cell_type": "code",
   "execution_count": 1,
   "metadata": {},
   "outputs": [
    {
     "name": "stdout",
     "output_type": "stream",
     "text": [
      "2\n",
      "4\n",
      "6\n",
      "8\n",
      "10\n"
     ]
    }
   ],
   "source": [
    "number = 0\n",
    "while number < 10:\n",
    "    number += 1\n",
    "    if number % 2 != 0:\n",
    "        continue\n",
    "    print(number)"
   ]
  },
  {
   "cell_type": "markdown",
   "metadata": {},
   "source": [
    "Exercise:"
   ]
  },
  {
   "cell_type": "code",
   "execution_count": 7,
   "metadata": {},
   "outputs": [
    {
     "name": "stdout",
     "output_type": "stream",
     "text": [
      "* \n",
      "* * \n",
      "* * * \n",
      "* * * * \n",
      "* * * * * \n",
      "* * * * * * \n",
      "* * * * * * * \n",
      "* * * * * * \n",
      "* * * * * \n",
      "* * * * \n",
      "* * * \n",
      "* * \n",
      "* \n"
     ]
    }
   ],
   "source": [
    "def only_stars(n : int) -> None: #The function only_stars is defined to take an integer parameter n.\n",
    "                                 #The function does not return any value (-> None indicates that).\n",
    "\n",
    "    x : int = 1  #Variable x is initialized to 1. It will be used to control the number of '*' printed in each line.\n",
    "    while x <= n: #A while loop is used to print the upper part of the arrow.\n",
    "        print('* ' * x) # print x copies of the string '* '\n",
    "        x += 1 # increase x by 1\n",
    "    x -= 2 # as x = n + 1 by now, we have to decrease x by 2\n",
    "    while x >= 1: #Another while loop is used to print the lower part of the arrow.\n",
    "        print('* ' * x)\n",
    "        x -= 1 # decrease x by 1\n",
    "only_stars(7)"
   ]
  },
  {
   "cell_type": "markdown",
   "metadata": {},
   "source": [
    "Exercise:\n",
    "a function that checks is a password chosen by a user meets the safety\n",
    "requirements:\n",
    "1. It should contain at least 6 and not more than 12 characters.\n",
    "2. No whitespace characters are allowed.\n",
    "3. It should contain at least one digit and a special character.\n",
    "4. It should contain at least one upercase and one lowercase character.\n"
   ]
  },
  {
   "cell_type": "code",
   "execution_count": 14,
   "metadata": {},
   "outputs": [],
   "source": [
    "import re\n",
    "def acceptable_password() -> None:\n",
    "\n",
    "    while True:\n",
    "        answer = input(\"Input your password: \") # read a proposed password\n",
    "        if answer == 'quit': # the program can be terminated\n",
    "            print('Bye') # by typing 'quit'\n",
    "            break\n",
    "        elif (len(answer)<6 or len(answer)>12): # check the length\n",
    "            print('Unacceptaple length: 6 to 12 characters required! Try again.')\n",
    "        elif re.findall('\\s', answer): # check for whitespace characters\n",
    "            print('No whitespace characters allowed! Try again.')\n",
    "        elif not re.findall('[0-9]', answer): # check for numbers\n",
    "            print(' The password must contain a number! Try again.')\n",
    "        elif not re.findall('[a-z]', answer): # check for lowercase characters\n",
    "            print(' The password must contain a lowercase character! Try again.')\n",
    "        elif not re.findall('[A-Z]', answer): # check for uppercase characters\n",
    "            print(' The password must contain a uppercase character! Try again.')\n",
    "        elif not re.findall('[-_$#@!?]', answer): # check for special characters\n",
    "            print(' The password must contain a special character! Try again.')\n",
    "        else: # proposal accepted\n",
    "            print(answer, 'is an acceptable password.')\n",
    "            break\n",
    "acceptable_password()\n",
    "\n"
   ]
  },
  {
   "cell_type": "markdown",
   "metadata": {},
   "source": [
    "In Python, a function definition has the following structure:\n",
    "\n",
    "def function-name(parameter-list):\n",
    "statement*.\n"
   ]
  },
  {
   "cell_type": "code",
   "execution_count": null,
   "metadata": {},
   "outputs": [],
   "source": [
    "len(print('Hallo World!'))"
   ]
  },
  {
   "cell_type": "markdown",
   "metadata": {},
   "source": [
    "The print function in Python returns None. Therefore, when you try to use len(print('Hello World!')), it's equivalent to len(None), which will raise a TypeError."
   ]
  },
  {
   "cell_type": "markdown",
   "metadata": {},
   "source": [
    "Positional Argument \n",
    "In general, the number of arguments must match the number of parameters when calling a function.\n",
    "In this case, the arguments of the function are called positional arguments. The parameters are\n",
    "bound to the value of the respective argument. If the number of arguments does not match the\n",
    "number of parameters, the function call results in an error:\n"
   ]
  },
  {
   "cell_type": "code",
   "execution_count": 1,
   "metadata": {},
   "outputs": [
    {
     "data": {
      "text/plain": [
       "21"
      ]
     },
     "execution_count": 1,
     "metadata": {},
     "output_type": "execute_result"
    }
   ],
   "source": [
    "def rectangle_area(side_A : float, side_B : float)-> float:\n",
    "    return side_A * side_B\n",
    "rectangle_area(3, 7) # side_A is bound to 3 and side_B to 7 21"
   ]
  },
  {
   "cell_type": "markdown",
   "metadata": {},
   "source": [
    "Note that positional arguments must always come before possible keyword arguments when calling\n",
    "a function:"
   ]
  },
  {
   "cell_type": "code",
   "execution_count": 2,
   "metadata": {},
   "outputs": [
    {
     "data": {
      "text/plain": [
       "21"
      ]
     },
     "execution_count": 2,
     "metadata": {},
     "output_type": "execute_result"
    }
   ],
   "source": [
    "rectangle_area(3, side_B=7)\n",
    "\n"
   ]
  },
  {
   "cell_type": "code",
   "execution_count": 3,
   "metadata": {},
   "outputs": [
    {
     "ename": "SyntaxError",
     "evalue": "positional argument follows keyword argument (507404430.py, line 1)",
     "output_type": "error",
     "traceback": [
      "\u001b[1;36m  Cell \u001b[1;32mIn[3], line 1\u001b[1;36m\u001b[0m\n\u001b[1;33m    rectangle_area(side_B=3, 7)\u001b[0m\n\u001b[1;37m                              ^\u001b[0m\n\u001b[1;31mSyntaxError\u001b[0m\u001b[1;31m:\u001b[0m positional argument follows keyword argument\n"
     ]
    }
   ],
   "source": [
    "rectangle_area(side_B=3, 7)\n"
   ]
  },
  {
   "cell_type": "markdown",
   "metadata": {},
   "source": [
    "it is possible to define functions that accept any number of arguments: In a function definition, the parameter list can contain an identifier beginning with ’*’ as the last parameter.\n",
    "the effect achieved is the\n",
    "opposite: ’*’ or ’**’ in a function definition serve to pull together a sequence of values into a list\n",
    "or dictionary; if, on the other hand, they are used within a function call, they detach the elements\n",
    "of a list or dictionary from this data structure"
   ]
  },
  {
   "cell_type": "code",
   "execution_count": 15,
   "metadata": {},
   "outputs": [
    {
     "data": {
      "text/plain": [
       "4.5"
      ]
     },
     "execution_count": 15,
     "metadata": {},
     "output_type": "execute_result"
    }
   ],
   "source": [
    "def mean(*values : list) -> float:\n",
    "    sum = 0\n",
    "    for x in values:\n",
    "        sum += x\n",
    "    return sum / len(values)\n",
    "mean(2,3,4,5,6,7)\n"
   ]
  },
  {
   "cell_type": "markdown",
   "metadata": {},
   "source": [
    "However, the arguments must not be keyword arguments.\n"
   ]
  },
  {
   "cell_type": "code",
   "execution_count": null,
   "metadata": {},
   "outputs": [],
   "source": [
    " mean(1,2,a=3)\n"
   ]
  },
  {
   "cell_type": "code",
   "execution_count": 16,
   "metadata": {},
   "outputs": [
    {
     "ename": "TypeError",
     "evalue": "unsupported operand type(s) for +=: 'int' and 'list'",
     "output_type": "error",
     "traceback": [
      "\u001b[1;31m---------------------------------------------------------------------------\u001b[0m",
      "\u001b[1;31mTypeError\u001b[0m                                 Traceback (most recent call last)",
      "Cell \u001b[1;32mIn[16], line 2\u001b[0m\n\u001b[0;32m      1\u001b[0m values : \u001b[38;5;28mlist\u001b[39m \u001b[38;5;241m=\u001b[39m [\u001b[38;5;241m2\u001b[39m,\u001b[38;5;241m3\u001b[39m,\u001b[38;5;241m4\u001b[39m,\u001b[38;5;241m5\u001b[39m,\u001b[38;5;241m6\u001b[39m,\u001b[38;5;241m7\u001b[39m]\n\u001b[1;32m----> 2\u001b[0m mean(values)\n",
      "Cell \u001b[1;32mIn[15], line 4\u001b[0m, in \u001b[0;36mmean\u001b[1;34m(*values)\u001b[0m\n\u001b[0;32m      2\u001b[0m \u001b[38;5;28msum\u001b[39m \u001b[38;5;241m=\u001b[39m \u001b[38;5;241m0\u001b[39m\n\u001b[0;32m      3\u001b[0m \u001b[38;5;28;01mfor\u001b[39;00m x \u001b[38;5;129;01min\u001b[39;00m values:\n\u001b[1;32m----> 4\u001b[0m     \u001b[38;5;28msum\u001b[39m \u001b[38;5;241m+\u001b[39m\u001b[38;5;241m=\u001b[39m x\n\u001b[0;32m      5\u001b[0m \u001b[38;5;28;01mreturn\u001b[39;00m \u001b[38;5;28msum\u001b[39m \u001b[38;5;241m/\u001b[39m \u001b[38;5;28mlen\u001b[39m(values)\n",
      "\u001b[1;31mTypeError\u001b[0m: unsupported operand type(s) for +=: 'int' and 'list'"
     ]
    }
   ],
   "source": [
    "values : list = [2,3,4,5,6,7]\n",
    "mean(values)\n"
   ]
  },
  {
   "cell_type": "code",
   "execution_count": 17,
   "metadata": {},
   "outputs": [
    {
     "data": {
      "text/plain": [
       "4.5"
      ]
     },
     "execution_count": 17,
     "metadata": {},
     "output_type": "execute_result"
    }
   ],
   "source": [
    "mean(*values)\n"
   ]
  },
  {
   "cell_type": "code",
   "execution_count": 4,
   "metadata": {},
   "outputs": [
    {
     "data": {
      "text/plain": [
       "{'flour': '300 gram',\n",
       " 'olive_oil': '50 ml',\n",
       " 'tomatoes': '4 pieces',\n",
       " 'dish': 'pizza'}"
      ]
     },
     "execution_count": 4,
     "metadata": {},
     "output_type": "execute_result"
    }
   ],
   "source": [
    "def cook (dish, **ingredients : dict) -> dict:\n",
    "    ingredients['dish'] = dish\n",
    "    return ingredients\n",
    "cook('pizza', flour='300 gram', olive_oil='50 ml', tomatoes='4 pieces')\n"
   ]
  },
  {
   "cell_type": "code",
   "execution_count": 12,
   "metadata": {},
   "outputs": [
    {
     "ename": "TypeError",
     "evalue": "cook() missing 1 required positional argument: 'dish'",
     "output_type": "error",
     "traceback": [
      "\u001b[1;31m---------------------------------------------------------------------------\u001b[0m",
      "\u001b[1;31mTypeError\u001b[0m                                 Traceback (most recent call last)",
      "Cell \u001b[1;32mIn[12], line 1\u001b[0m\n\u001b[1;32m----> 1\u001b[0m cook(ingredients\u001b[38;5;241m=\u001b[39m\u001b[38;5;124m\"\u001b[39m\u001b[38;5;124mfesenjoon\u001b[39m\u001b[38;5;124m\"\u001b[39m)\n",
      "\u001b[1;31mTypeError\u001b[0m: cook() missing 1 required positional argument: 'dish'"
     ]
    }
   ],
   "source": [
    "cook(ingredients=\"fesenjoon\")"
   ]
  },
  {
   "cell_type": "markdown",
   "metadata": {},
   "source": [
    "Environment and scope\n",
    "\n",
    "An environment is a data structure that associates variable names with their current values within a specific scope during the execution of a program.An environment is the set of value bindings that exist at a particular time (when a programme is executed)\n",
    "\n",
    "The scope of a variable v is the area of a programme within which it can be referenced; i.e. within\n",
    "which the evaluation of the symbol designating it does not lead to an error message. \n",
    "\n"
   ]
  },
  {
   "cell_type": "markdown",
   "metadata": {},
   "source": [
    "In short, the function definition generates an environment in which the parameter and\n",
    "variable identifiers have a ‘meaning’; outside this environment they are unbound. Environments can\n",
    "contain other environments (Matroschka principle)."
   ]
  },
  {
   "cell_type": "code",
   "execution_count": 18,
   "metadata": {},
   "outputs": [
    {
     "name": "stdout",
     "output_type": "stream",
     "text": [
      "3\n"
     ]
    },
    {
     "data": {
      "text/plain": [
       "6"
      ]
     },
     "execution_count": 18,
     "metadata": {},
     "output_type": "execute_result"
    }
   ],
   "source": [
    "c = 9\n",
    "\n",
    "def test(a, b): \n",
    "    c = 3  # Updating the value of c\n",
    "    print(c)  # Accessing c after it's assigned\n",
    "    return a + b + c\n",
    "\n",
    "test(1, 2)\n"
   ]
  },
  {
   "cell_type": "markdown",
   "metadata": {},
   "source": [
    "From Python’s point of view, there is an ambiguity in this case when c is first used in the function\n",
    "definition, but this can be overridden by explicitly marking c as a global variable:"
   ]
  },
  {
   "cell_type": "code",
   "execution_count": 26,
   "metadata": {},
   "outputs": [],
   "source": [
    "c = 9\n",
    "def test(a : float, b : float) -> float:\n",
    "    global c\n",
    "    print(c)\n",
    "    c = 3\n",
    "    \n",
    "    return a + b + c\n"
   ]
  },
  {
   "cell_type": "code",
   "execution_count": 28,
   "metadata": {},
   "outputs": [
    {
     "name": "stdout",
     "output_type": "stream",
     "text": [
      "3\n"
     ]
    }
   ],
   "source": [
    "print(c)"
   ]
  },
  {
   "cell_type": "code",
   "execution_count": 27,
   "metadata": {},
   "outputs": [
    {
     "name": "stdout",
     "output_type": "stream",
     "text": [
      "9\n"
     ]
    },
    {
     "data": {
      "text/plain": [
       "6"
      ]
     },
     "execution_count": 27,
     "metadata": {},
     "output_type": "execute_result"
    }
   ],
   "source": [
    "test(1, 2)"
   ]
  },
  {
   "cell_type": "markdown",
   "metadata": {},
   "source": [
    "What is module?\n",
    "\n",
    "Formally, a module is nothing more than a Python file (extension .py) that contains definitions and instructions. With\n",
    "\n",
    "import MODULE\n",
    "\n",
    "a module is read in and the functions defined there can now be used. To call them, the module\n",
    "name must be used as a prefix; this is because each module provides its own namespace, which\n",
    "helps to avoid potential naming conflicts:\n",
    "\n",
    "MODULE.FUNCTION\n",
    "\n",
    "Instead of importing the entire module, it is of course also possible to import individual functions/methods:\n",
    "\n",
    "from MODULE import FUNCTION_1, ..., FUNCTION_n\n",
    "\n",
    "The functions imported in this way can now be accessed without specifying the module prefix\n",
    "\n",
    "To access all functions of a module without module prefix, use the following variant:\n",
    "\n",
    "from MODUL import *\n",
    "\n",
    "If you want to, you can declare aliases for functions and modules :ff\n",
    "# from MODULE-NAME import FUNCTION_NAME as FN\n",
    "from fibo import fibo1 as f1\n",
    "# import FUNCTION_NAME as FN\n",
    "import fibo as f\n"
   ]
  }
 ],
 "metadata": {
  "kernelspec": {
   "display_name": "Python 3 (ipykernel)",
   "language": "python",
   "name": "python3"
  },
  "language_info": {
   "codemirror_mode": {
    "name": "ipython",
    "version": 3
   },
   "file_extension": ".py",
   "mimetype": "text/x-python",
   "name": "python",
   "nbconvert_exporter": "python",
   "pygments_lexer": "ipython3",
   "version": "3.11.5"
  }
 },
 "nbformat": 4,
 "nbformat_minor": 2
}
