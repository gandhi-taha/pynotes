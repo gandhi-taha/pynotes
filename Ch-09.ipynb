{
 "cells": [
  {
   "cell_type": "markdown",
   "metadata": {},
   "source": [
    "**Class and Objects**\\\n",
    "**Object-Oriented Programming (OOP) Overview:**\n",
    "  - **Characteristics:**\n",
    "    - Modern languages are predominantly object-oriented.\n",
    "    - Fundamental concepts involve creating objects with specific properties and exchanging information via messages.\n",
    "  - **Key Terms:**\n",
    "    - **Object:**\n",
    "      - Comprises specific properties (attributes) and values.\n",
    "    - **Class:**\n",
    "      - Groups entities/objects with common properties and methods.\n",
    "    - **Instance:**\n",
    "      - Objects belonging to a class.\n",
    "    - **Class Variables:**\n",
    "      - Constant properties for all instances.\n",
    "    - **Instance Variables:**\n",
    "      - Properties specific to each instance.\n",
    "  - **Common Characteristics of Instances:**\n",
    "    - Each instance has a unique identification (object ID).\n",
    "    - Each instance has its set of instance variables defining its state.\n",
    "  - **Methods (Instance Methods):**\n",
    "    - Describe operations executable with instances.\n",
    "    - Enable access to instance variables and can alter the object's state.\n",
    "    - Invoked by sending a message to an object.\n",
    "    - Messages include method name and possible parameters.\n",
    "    - Method invocation syntax: `object.method(parameter*)`."
   ]
  },
  {
   "cell_type": "code",
   "execution_count": 222,
   "metadata": {},
   "outputs": [],
   "source": [
    "class AlarmClock():\n",
    "    def __init__(self, colour, sound):\n",
    "        self.colour = colour\n",
    "        self.sound = sound\n",
    "    def show_colour(self):  \n",
    "        return \"The alarm clock is \" + self.colour\n",
    "    def ring(self):\n",
    "        return self.sound + \"!!!\""
   ]
  },
  {
   "cell_type": "markdown",
   "metadata": {},
   "source": [
    "**`__init__` Method:**\n",
    "  - Automatically executed when a new instance of the class is created in Python.\n",
    "  - Named with double underscores to denote it as a special method.\n",
    "  - Parameters in `__init__` should be provided when creating an instance, except for `self`.\n",
    "  - Default values can be specified for parameters in `__init__`.\n",
    "  - To generate an instance, use the class name and specify the required arguments.\n",
    "\n",
    "**Explanation:**\n",
    "- When a new instance of a class is created, the `__init__` method is automatically called.\n",
    "- The `__init__` method initializes the instance with specific properties.\n",
    "- The `self` parameter refers to the instance being created and is automatically passed by Python.\n",
    "- Parameters in `__init__` (other than `self`) should be provided when creating an instance.\n",
    "- Default values for parameters in `__init__` can be specified, allowing flexibility when creating instances.\n",
    "- To create an instance, use the class name followed by the required arguments: `my_instance = MyClass(arg1, arg2)`."
   ]
  },
  {
   "cell_type": "code",
   "execution_count": 223,
   "metadata": {},
   "outputs": [
    {
     "data": {
      "text/plain": [
       "<__main__.AlarmClock at 0x7ff3f2dbbee0>"
      ]
     },
     "execution_count": 223,
     "metadata": {},
     "output_type": "execute_result"
    }
   ],
   "source": [
    "clock1 = AlarmClock('green', 'tingtingting')\n",
    "clock2 = AlarmClock('pink', 'simsim')\n",
    "clock1\n",
    "clock2"
   ]
  },
  {
   "cell_type": "code",
   "execution_count": 224,
   "metadata": {},
   "outputs": [
    {
     "data": {
      "text/plain": [
       "__main__.AlarmClock"
      ]
     },
     "execution_count": 224,
     "metadata": {},
     "output_type": "execute_result"
    }
   ],
   "source": [
    "type(clock1)"
   ]
  },
  {
   "cell_type": "code",
   "execution_count": 227,
   "metadata": {},
   "outputs": [
    {
     "data": {
      "text/plain": [
       "140685728267904"
      ]
     },
     "execution_count": 227,
     "metadata": {},
     "output_type": "execute_result"
    }
   ],
   "source": [
    "id(clock1)"
   ]
  },
  {
   "cell_type": "code",
   "execution_count": 228,
   "metadata": {},
   "outputs": [
    {
     "data": {
      "text/plain": [
       "{'colour': 'green', 'sound': 'tingtingting'}"
      ]
     },
     "execution_count": 228,
     "metadata": {},
     "output_type": "execute_result"
    }
   ],
   "source": [
    "clock1.__dict__"
   ]
  },
  {
   "cell_type": "markdown",
   "metadata": {},
   "source": [
    " **Accessing Attributes of an Instance:**\n",
    "  1. **Using Special Methods:**\n",
    "     - Defined in the class for specific attribute access (e.g., `show_colour()` and `ring()`).\n",
    "     - Provides controlled access to attributes with defined behavior.\n",
    "  2. **Directly Using Attribute Names:**\n",
    "     - Simply use the attribute names for access.\n",
    "     - Offers a straightforward way to read or modify attribute values.\n",
    "  - **Syntax:**\n",
    "     - Regardless of the method used, the syntax is `object.method(p*)` for accessing attributes of an instance."
   ]
  },
  {
   "cell_type": "code",
   "execution_count": 230,
   "metadata": {},
   "outputs": [
    {
     "data": {
      "text/plain": [
       "'tingtingting!!!'"
      ]
     },
     "execution_count": 230,
     "metadata": {},
     "output_type": "execute_result"
    }
   ],
   "source": [
    "clock1.colour\n",
    "clock1.sound\n",
    "clock1.show_colour()\n",
    "clock1.ring()"
   ]
  },
  {
   "cell_type": "markdown",
   "metadata": {},
   "source": [
    "**Changing Attribute Values:**\n",
    "  - Attribute names can be used directly to change their values.\n",
    "  - Syntax: `object.attribute = new_value`."
   ]
  },
  {
   "cell_type": "code",
   "execution_count": 231,
   "metadata": {},
   "outputs": [
    {
     "data": {
      "text/plain": [
       "'white'"
      ]
     },
     "execution_count": 231,
     "metadata": {},
     "output_type": "execute_result"
    }
   ],
   "source": [
    "clock1.colour = 'white'\n",
    "clock1.colour"
   ]
  },
  {
   "cell_type": "markdown",
   "metadata": {},
   "source": [
    "**Accessing Attributes vs. Methods:**\n",
    "  - **Attributes:**\n",
    "    - Accessed directly using attribute names.\n",
    "    - Values can be changed directly.\n",
    "  - **Methods:**\n",
    "    - Methods like `show_colour()` and `ring()` may not be designed for changing attribute values.\n",
    "    - Specific methods may need to be added to handle attribute changes."
   ]
  },
  {
   "cell_type": "code",
   "execution_count": 233,
   "metadata": {},
   "outputs": [
    {
     "ename": "SyntaxError",
     "evalue": "cannot assign to function call (<ipython-input-233-a348ce5040f6>, line 1)",
     "output_type": "error",
     "traceback": [
      "\u001b[0;36m  File \u001b[0;32m\"<ipython-input-233-a348ce5040f6>\"\u001b[0;36m, line \u001b[0;32m1\u001b[0m\n\u001b[0;31m    clock1.show_colour() = 'white'\u001b[0m\n\u001b[0m    ^\u001b[0m\n\u001b[0;31mSyntaxError\u001b[0m\u001b[0;31m:\u001b[0m cannot assign to function call\n"
     ]
    }
   ],
   "source": [
    "clock1.show_colour() = 'white' # Read the error\n"
   ]
  },
  {
   "cell_type": "code",
   "execution_count": 241,
   "metadata": {},
   "outputs": [
    {
     "data": {
      "text/plain": [
       "'white'"
      ]
     },
     "execution_count": 241,
     "metadata": {},
     "output_type": "execute_result"
    }
   ],
   "source": [
    "class AlarmClock():\n",
    "\n",
    "    def __init__(self, colour, sound):\n",
    "        self.colour = colour\n",
    "        self.sound = sound\n",
    "    def show_colour(self):\n",
    "        return \"The alarm clock is \" + self.colour\n",
    "    def ring(self):\n",
    "        return self.sound + \"!!!\"\n",
    "    def new_colour(self, colour):\n",
    "        self.colour = colour\n",
    "clock1.colour"
   ]
  },
  {
   "cell_type": "markdown",
   "metadata": {},
   "source": [
    "**Assigning Additional Attributes:**\n",
    "  - You can dynamically assign new attributes to an instance.\n",
    "  - Attributes not defined in the `__init__` method can be added later during the program execution."
   ]
  },
  {
   "cell_type": "code",
   "execution_count": 243,
   "metadata": {},
   "outputs": [
    {
     "data": {
      "text/plain": [
       "{'colour': 'white', 'sound': 'tingtingting', 'age': 3}"
      ]
     },
     "execution_count": 243,
     "metadata": {},
     "output_type": "execute_result"
    }
   ],
   "source": [
    "clock1.age = 3\n",
    "clock1.__dict__"
   ]
  },
  {
   "cell_type": "markdown",
   "metadata": {},
   "source": [
    "**Class Attributes:**\n",
    "  - Shared by all instances of a class.\n",
    "  - Changes to their value affect all instances.\n",
    "  - Declared in the class header or created dynamically.\n",
    "  - Not listed in the instance's `__dict__`, but accessible via the class or instance."
   ]
  },
  {
   "cell_type": "code",
   "execution_count": 245,
   "metadata": {},
   "outputs": [],
   "source": [
    "class AlarmClock():\n",
    "    number = 0\n",
    "    def __init__(self, colour, sound):\n",
    "        self.colour = colour\n",
    "        self.sound = sound\n",
    "        AlarmClock.number += 1\n",
    "    def show_colour(self):\n",
    "        return \"The alarm clock is \" + self.colour\n",
    "    def ring(self):\n",
    "        return self.sound + \"!!!\""
   ]
  },
  {
   "cell_type": "code",
   "execution_count": 247,
   "metadata": {},
   "outputs": [
    {
     "data": {
      "text/plain": [
       "0"
      ]
     },
     "execution_count": 247,
     "metadata": {},
     "output_type": "execute_result"
    }
   ],
   "source": [
    "AlarmClock.number"
   ]
  },
  {
   "cell_type": "code",
   "execution_count": 249,
   "metadata": {},
   "outputs": [],
   "source": [
    "clock1 = AlarmClock('green', 'tingtingting')\n",
    "clock2 = AlarmClock('pink', 'simsim')"
   ]
  },
  {
   "cell_type": "code",
   "execution_count": 251,
   "metadata": {},
   "outputs": [
    {
     "data": {
      "text/plain": [
       "4"
      ]
     },
     "execution_count": 251,
     "metadata": {},
     "output_type": "execute_result"
    }
   ],
   "source": [
    "AlarmClock.number"
   ]
  },
  {
   "cell_type": "markdown",
   "metadata": {},
   "source": [
    "**Class Attributes:**\n",
    "  - Assigning a new value to a class attribute in an instance creates an instance attribute with the same name.\n",
    "  - This instance attribute \"shadows\" the class attribute for that specific instance."
   ]
  },
  {
   "cell_type": "code",
   "execution_count": 253,
   "metadata": {},
   "outputs": [],
   "source": [
    "AlarmClock.producer = 'Siemens' # another class attribute"
   ]
  },
  {
   "cell_type": "code",
   "execution_count": 255,
   "metadata": {},
   "outputs": [
    {
     "data": {
      "text/plain": [
       "'Siemens'"
      ]
     },
     "execution_count": 255,
     "metadata": {},
     "output_type": "execute_result"
    }
   ],
   "source": [
    "clock1.producer\n",
    "clock2.producer"
   ]
  },
  {
   "cell_type": "code",
   "execution_count": 256,
   "metadata": {},
   "outputs": [
    {
     "data": {
      "text/plain": [
       "{'colour': 'green', 'sound': 'tingtingting'}"
      ]
     },
     "execution_count": 256,
     "metadata": {},
     "output_type": "execute_result"
    }
   ],
   "source": [
    "clock1.__dict__"
   ]
  },
  {
   "cell_type": "code",
   "execution_count": 257,
   "metadata": {},
   "outputs": [],
   "source": [
    "clock2.producer = 'Sony' # now we have an instance attribute with the same name"
   ]
  },
  {
   "cell_type": "code",
   "execution_count": 259,
   "metadata": {},
   "outputs": [
    {
     "data": {
      "text/plain": [
       "{'colour': 'pink', 'sound': 'simsim', 'producer': 'Sony'}"
      ]
     },
     "execution_count": 259,
     "metadata": {},
     "output_type": "execute_result"
    }
   ],
   "source": [
    "clock2.__dict__"
   ]
  },
  {
   "cell_type": "markdown",
   "metadata": {},
   "source": [
    "**Dynamic Attribute Assignment in Python:**\n",
    "  - Attributes can be dynamically assigned to objects, providing flexibility.\n",
    "  - Function names can have attributes assigned to them.\n",
    "  - Attributes assigned to function names can serve as a substitute for static function variables, similar to C and C++."
   ]
  },
  {
   "cell_type": "code",
   "execution_count": 261,
   "metadata": {},
   "outputs": [
    {
     "data": {
      "text/plain": [
       "'Siemens'"
      ]
     },
     "execution_count": 261,
     "metadata": {},
     "output_type": "execute_result"
    }
   ],
   "source": [
    "clock3 = AlarmClock('black', 'toctoctoc')\n",
    "clock3.producer"
   ]
  },
  {
   "cell_type": "markdown",
   "metadata": {},
   "source": [
    "**Data Abstraction in Object-Oriented Programming:**\n",
    "  - **Data Encapsulation:**\n",
    "    - Combining data structures and procedures (methods) within a class.\n",
    "  - **Information Hiding:**\n",
    "    - Restricting external access to certain information for security reasons.\n",
    "  - **Data Abstraction:**\n",
    "    - Represents a combination of data encapsulation and information hiding.\n",
    "    - Emphasizes creating abstract views of data and functionality.\n",
    "    - Data Abstraction = Data Encapsulation + Principle of Secrecy.\n",
    "\n",
    "**Visibility Considerations:**\n",
    "  - Carefully decide which properties should be visible or modifiable from outside the class.\n",
    "- **Types of Attributes and Methods:**\n",
    "  - **Public:**\n",
    "    - Allow free access or use from outside the class.\n",
    "  - **Protected:**\n",
    "    - Usable within the class and its subclasses.\n",
    "  - **Private:**\n",
    "    - Visible only within the class; inaccessible from outside.\n",
    "- **Python Naming Conventions:**\n",
    "  - In Python, all attributes are technically public, but naming conventions provide guidance.\n",
    "  - `_` prefix indicates for internal use (within the class and subclasses).\n",
    "  - `__` prefix marks as private, although access is still possible from outside.\n",
    "\n",
    "In summary, visibility in Python is influenced by naming conventions, where `_` and `__` prefixes indicate intended use, but it's essential to note that access is still possible from outside."
   ]
  },
  {
   "cell_type": "code",
   "execution_count": 271,
   "metadata": {},
   "outputs": [],
   "source": [
    "class AlarmClock1():\n",
    "    number=0\n",
    "    def __init__(self,colour, sound):\n",
    "        self.colour= colour\n",
    "        self.sound= sound\n",
    "        self.test= 1\n",
    "        self._test = 11\n",
    "        self.__test= 111"
   ]
  },
  {
   "cell_type": "markdown",
   "metadata": {},
   "source": [
    "At first glance, it seems that it is not possible to access the private attribute from the outside:"
   ]
  },
  {
   "cell_type": "code",
   "execution_count": 272,
   "metadata": {},
   "outputs": [],
   "source": [
    "clock4= AlarmClock1('red','tringtingting')"
   ]
  },
  {
   "cell_type": "code",
   "execution_count": 273,
   "metadata": {},
   "outputs": [
    {
     "data": {
      "text/plain": [
       "1"
      ]
     },
     "execution_count": 273,
     "metadata": {},
     "output_type": "execute_result"
    }
   ],
   "source": [
    "clock4.test"
   ]
  },
  {
   "cell_type": "code",
   "execution_count": 275,
   "metadata": {},
   "outputs": [
    {
     "data": {
      "text/plain": [
       "11"
      ]
     },
     "execution_count": 275,
     "metadata": {},
     "output_type": "execute_result"
    }
   ],
   "source": [
    "clock4._test"
   ]
  },
  {
   "cell_type": "code",
   "execution_count": 276,
   "metadata": {},
   "outputs": [
    {
     "ename": "AttributeError",
     "evalue": "'AlarmClock1' object has no attribute '__test'",
     "output_type": "error",
     "traceback": [
      "\u001b[0;31m---------------------------------------------------------------------------\u001b[0m",
      "\u001b[0;31mAttributeError\u001b[0m                            Traceback (most recent call last)",
      "\u001b[0;32m<ipython-input-276-acd6ee230487>\u001b[0m in \u001b[0;36m<module>\u001b[0;34m\u001b[0m\n\u001b[0;32m----> 1\u001b[0;31m \u001b[0mclock4\u001b[0m\u001b[0;34m.\u001b[0m\u001b[0m__test\u001b[0m\u001b[0;34m\u001b[0m\u001b[0;34m\u001b[0m\u001b[0m\n\u001b[0m",
      "\u001b[0;31mAttributeError\u001b[0m: 'AlarmClock1' object has no attribute '__test'"
     ]
    }
   ],
   "source": [
    "clock4.__test # "
   ]
  }
 ],
 "metadata": {
  "kernelspec": {
   "display_name": "Python 3",
   "language": "python",
   "name": "python3"
  },
  "language_info": {
   "codemirror_mode": {
    "name": "ipython",
    "version": 3
   },
   "file_extension": ".py",
   "mimetype": "text/x-python",
   "name": "python",
   "nbconvert_exporter": "python",
   "pygments_lexer": "ipython3",
   "version": "3.8.8"
  }
 },
 "nbformat": 4,
 "nbformat_minor": 2
}
