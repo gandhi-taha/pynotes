{
 "cells": [
  {
   "cell_type": "markdown",
   "metadata": {},
   "source": [
    "To open a file in Python, you need the open()-function, which returns a file object as its value. It\n",
    "is normally called with two arguments:\n",
    "\n",
    "\n",
    "The four most important modes are the following:\n",
    "\n",
    "• ’r’ - The file is opened for reading. Since reading from a file is considered a standard operation,\n",
    "this specification can be omitted.\n",
    "\n",
    "• ’w’ - The file is opened for writing. If a file with the specified name already exists, it will be\n",
    "overwritten.\n",
    "\n",
    "• ’a’ - The file is opened for writing. If a file with the specified name already exists, the new\n",
    "file is appended to the end of the file.\n",
    "\n",
    "• ’x’ - The file is created. If it already exists, this leads to an error message.\n"
   ]
  },
  {
   "cell_type": "code",
   "execution_count": null,
   "metadata": {},
   "outputs": [],
   "source": [
    "open(FILE NAME, MODE)"
   ]
  },
  {
   "cell_type": "markdown",
   "metadata": {},
   "source": [
    "•'t': This stands for text mode. When you open a file in text mode ('t'), Python will read or write the file as a text file. It means that the file is expected to contain human-readable text, and Python will handle newline characters (\\n) in a platform-specific way (converting them to the appropriate newline character(s) for the operating system).\n",
    "\n",
    "•'b': This stands for binary mode. When you open a file in binary mode ('b'), Python will read or write the file as a binary file. Binary mode is used when dealing with non-text files or when you want to handle binary data explicitly. In binary mode, newline characters are not automatically modified, and the data is read or written as-is.\n"
   ]
  },
  {
   "cell_type": "code",
   "execution_count": null,
   "metadata": {},
   "outputs": [],
   "source": [
    "with open('example.txt', 'rt') as file:\n",
    "    content = file.read()\n",
    "\n",
    "with open('example.bin', 'rb') as file:\n",
    "    content = file.read()\n",
    "\n",
    "    "
   ]
  },
  {
   "cell_type": "code",
   "execution_count": null,
   "metadata": {},
   "outputs": [],
   "source": [
    "open('test', mode='w+', encoding=`utf-8'). #Opened for reading & writing"
   ]
  },
  {
   "cell_type": "markdown",
   "metadata": {},
   "source": [
    "When opening a file with open(), make sure that it is closed again after the intended operations on\n",
    "the file."
   ]
  },
  {
   "cell_type": "code",
   "execution_count": null,
   "metadata": {},
   "outputs": [],
   "source": [
    "f = open('my_file.txt') # Text file is opened for reading\n",
    "<PROCESSING OF DATA>\n",
    "f.close() # The close() method closes the file or stream.\n"
   ]
  },
  {
   "cell_type": "markdown",
   "metadata": {},
   "source": [
    "This process can be simplified by using a with form:In this case, the file is automatically closed immediately after the block is finished. You should always work with with-forms if possible."
   ]
  },
  {
   "cell_type": "code",
   "execution_count": null,
   "metadata": {},
   "outputs": [],
   "source": [
    "with open('my\\_file.txt') as f:\n",
    "<PROCESSING OF DATA>"
   ]
  },
  {
   "cell_type": "markdown",
   "metadata": {},
   "source": [
    "A file-object created by open() has a number of properties that can be accessed with suitable\n",
    "methods. The following methods can be applied to a file-object f_obj:\n",
    "• f_obj.closed evaluates to True gdw. the file was closed; otherwise to False.\n",
    "• f_obj.mode returns the name of the mode that was used when the file was opened.\n",
    "• f_obj.name returns the name of the associated file."
   ]
  },
  {
   "cell_type": "code",
   "execution_count": null,
   "metadata": {},
   "outputs": [],
   "source": [
    "str = open(\"test\", 'x')\n",
    "str.closed\n",
    "[ ]: False\n",
    "\n",
    "\n",
    "[ ]: str.close()\n",
    "str.closed\n",
    "[ ]: True\n",
    "\n",
    "\n",
    "[ ]: str.name\n",
    "[ ]: 'test'\n",
    "\n",
    "[ ]: str.mod\n",
    "'x'\n",
    "\n"
   ]
  },
  {
   "cell_type": "code",
   "execution_count": null,
   "metadata": {},
   "outputs": [],
   "source": [
    "with open('my_file.txt') as f:\n",
    "    content = f.read()"
   ]
  },
  {
   "cell_type": "markdown",
   "metadata": {},
   "source": [
    "In this example, the open() function is used to open the file named 'my_file.txt'. The with statement ensures that the file is properly closed after reading its content. The read() method reads the entire content of the file and stores it in the variable content."
   ]
  },
  {
   "cell_type": "code",
   "execution_count": null,
   "metadata": {},
   "outputs": [],
   "source": [
    "with open('my_file.txt') as f:\n",
    "    while True:\n",
    "        char = f.read(1) # Read the next character from the file\n",
    "        if not char: break"
   ]
  },
  {
   "cell_type": "markdown",
   "metadata": {},
   "source": [
    "When reaching the end of the file, read(n) returns an empty string. Contrary to expectations, in\n",
    "this situation further attempts to read do not lead to an error message, but also evaluate to an\n",
    "empty string.\n"
   ]
  },
  {
   "cell_type": "code",
   "execution_count": null,
   "metadata": {},
   "outputs": [],
   "source": [
    "with open('my_file.txt') as f:\n",
    "    for line in f:\n",
    "    print(line.rstrip())"
   ]
  },
  {
   "cell_type": "markdown",
   "metadata": {},
   "source": [
    "It is even easier to process a file line by line:\n",
    "The rstrip() method is applied to each line to remove any newline characters. Then, the modified line is printed to the console."
   ]
  },
  {
   "cell_type": "markdown",
   "metadata": {},
   "source": [
    "Difference between read(), readline() and readlines()\n",
    "\n",
    "If readline() is used with a numeric argument n, a maximum of n characters are read, as with read(); however, unlike read(), it never reads beyond the end of the line.\n",
    "\n",
    "\n",
    "Again, it is also possible to pass a numerical argument (default value: -1 / reads all lines of thefile): All lines are then read including the line containing the specified byte/character:\n",
    "\n"
   ]
  },
  {
   "cell_type": "code",
   "execution_count": null,
   "metadata": {},
   "outputs": [],
   "source": [
    "with open(\"text_sample.txt\") as file:\n",
    "    print(file.readlines(7)) "
   ]
  },
  {
   "cell_type": "code",
   "execution_count": null,
   "metadata": {},
   "outputs": [],
   "source": [
    "with open(\"text_sample.txt\") as file:\n",
    "    print(file.read(18))\n",
    "\n",
    "with open(\"text_sample.txt\") as file:\n",
    "    print(file.readline(18))\n",
    "\n",
    "with open(\"text_sample.txt\") as file:\n",
    "    print(file.readlines())"
   ]
  },
  {
   "cell_type": "markdown",
   "metadata": {},
   "source": [
    "tell() and seek()\n",
    "\n",
    "The tell()-method, which is called without arguments, can be used to determine the current position\n",
    "of the file pointer.\n",
    "\n",
    "datei = open(\"text_sample.txt\")\n",
    "datei.read(4)\n",
    "'Only'\n",
    "\n",
    "datei.tell()\n",
    "4\n",
    "\n",
    "The seek()-method accepts up to two numeric arguments (INTEGER): the value\n",
    "of the first argument determines the number of bytes by which the file pointer is to be moved; the\n",
    "value of the second, optional argument defines the starting point for this action\n",
    "\n",
    "datei.seek(7)\n",
    " 7\n",
    "\n",
    "\n",
    "\n"
   ]
  },
  {
   "cell_type": "markdown",
   "metadata": {},
   "source": [
    "write() and writelines()\n",
    "write() takes a string and writeline() takes a sequence (list, tuple) of strings as an argument and writes them to a file:\n",
    "\n"
   ]
  },
  {
   "cell_type": "code",
   "execution_count": null,
   "metadata": {},
   "outputs": [],
   "source": [
    "with open(\"second_test.txt\", \"w\") as file:\n",
    "    file.write(\"I don't like\")\n",
    "    file.writelines([\" Mondays\", \"The Boomtown Rats\"])"
   ]
  },
  {
   "cell_type": "code",
   "execution_count": null,
   "metadata": {},
   "outputs": [],
   "source": [
    "JSON\n",
    "JSON stands for JavaScript Object Notation, but it is a (text-based) format that is supported\n",
    "by many programming languages and thus also enables data exchange between programmes\n",
    "written in different languages. The functions json.dump() and json.load() are used to save\n",
    "and load the data:\n"
   ]
  },
  {
   "cell_type": "markdown",
   "metadata": {},
   "source": [
    "Pickle\n",
    "\n",
    "Python’s pickle library allows important types of Python objects to be serialised and de\u0002serialised. In contrast to JSON, a binary format is used for this, which means that the file\n",
    "used for saving must be opened in binary mode (’wb’ or ‘rb’)."
   ]
  },
  {
   "cell_type": "markdown",
   "metadata": {},
   "source": [
    "Shelve\n",
    "\n",
    "The shelve module in Python provides a convenient way to persistently store and retrieve Python objects using a dictionary-like interface.\n",
    "\n",
    "The shelve.open()-method can be used to open a file for reading or writing:\n",
    "\n",
    "import shelve\n",
    "with shelve.open('test.db') as f:\n",
    "    ['test1'] = { 'Integer': 17, 'Float': 3.14, 'String': 'What is this?' }\n",
    "\n",
    "Import shelve module:\n",
    "\n",
    "The code begins by importing the shelve module, which provides a simple interface for persistently storing and retrieving Python objects.\n",
    "\n",
    "Open a shelf file:\n",
    "\n",
    "The with shelve.open('test.db') as f: line opens a shelf file named 'test.db' in the current working directory.\n",
    "The with statement is used here to ensure that the shelf file is properly closed after the indented block of code.\n",
    "Store data in the shelf:\n",
    "\n",
    "Inside the with block, the line f['test1'] = {'Integer': 17, 'Float': 3.14, 'String': 'What is this?'} stores a dictionary with three key-value pairs into the shelf.\n",
    "The key is 'test1', and the corresponding value is a dictionary containing an integer, a float, and a string.\n",
    "Automatic closing of the shelf:\n",
    "\n",
    "Due to the use of the with statement, the shelf file is automatically closed when the block of code is exited. This ensures that any changes made to the shelf are saved.\n"
   ]
  },
  {
   "cell_type": "markdown",
   "metadata": {},
   "source": [
    "OS\n",
    "\n",
    "The os module in Python provides a way to interact with the operating system, including performing operations that affect the file system. It allows you to perform various tasks such as file and directory manipulation, process management, and more.\n",
    "\n",
    "import os\n",
    "The most important methods include the following:\n",
    "os.rename( \"second_test.txt\", \"murx.txt\" ) # Rename a file.\n",
    "os.remove(\"murx.txt\") # delete a file\n",
    "os.getcwd() # display the current directory\n",
    "os.mkdir('pictures') # create a new directory\n",
    "os.chdir('pictures') # Change directory\n",
    "os.rmdir('pictures') # Delete directory\n",
    "os.listdir('..') # show contents of a directory\n",
    "\n",
    "\n"
   ]
  },
  {
   "cell_type": "markdown",
   "metadata": {},
   "source": [
    "pathlib library: Using this library, for example, you can change the extension of a file.\n",
    "\n",
    "\n",
    "\n",
    "\n"
   ]
  },
  {
   "cell_type": "code",
   "execution_count": null,
   "metadata": {},
   "outputs": [],
   "source": [
    "rom pathlib import Path\n",
    "original_file_name = 'star_wars.txt'\n",
    "new_file_name = Path(original_file_name).stem + '.pdf'\n",
    "new_file_name\n"
   ]
  },
  {
   "cell_type": "markdown",
   "metadata": {},
   "source": [
    "Tokenization\n",
    "\n",
    "from nltk.tokenize import word_tokenize\n",
    "tokens = word_tokenize(roh_text)\n",
    "print(tokens[:10])\n",
    "\n",
    "In the next step, we turn the token list into an instance of NLTK’s Text class in order to be able\n",
    "to perform further operations on this document: this is an instance of the Text class from the Natural Language Toolkit (NLTK) library in Python. The Text class is part of NLTK's text module and is used for the analysis of text corpora.\n",
    "\n",
    "text = nltk.Text(tokens)\n",
    "\n",
    "print(text.collocations())\n",
    "\n",
    "\n"
   ]
  },
  {
   "cell_type": "markdown",
   "metadata": {},
   "source": [
    "find()\n",
    "\n",
    "print(roh_text.find(\"Faust: Der Tragödie erster Teil\",400))\n",
    "\n",
    "This line is using the find() method on the string roh_text.\n",
    "The first argument to find() is the substring you are searching for, which is \"Faust: Der Tragödie erster Teil\" in this case.\n",
    "The second argument is the starting index for the search, which is set to 400 in your code."
   ]
  },
  {
   "cell_type": "markdown",
   "metadata": {},
   "source": [
    "rfind() searches for the last occurence of the string \n",
    "\n",
    "roh_text.rfind(\"*** END OF THE\")"
   ]
  },
  {
   "cell_type": "markdown",
   "metadata": {},
   "source": []
  }
 ],
 "metadata": {
  "kernelspec": {
   "display_name": "Python 3 (ipykernel)",
   "language": "python",
   "name": "python3"
  }
 },
 "nbformat": 4,
 "nbformat_minor": 2
}
