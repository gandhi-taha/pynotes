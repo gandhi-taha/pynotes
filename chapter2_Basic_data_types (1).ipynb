{
 "cells": [
  {
   "cell_type": "markdown",
   "metadata": {},
   "source": [
    "what is program?\n",
    "\n",
    "A program is nothing more but a sequence of instructions or commands that are executed sequentially."
   ]
  },
  {
   "cell_type": "markdown",
   "metadata": {},
   "source": [
    "In order to formulate long statements that stretch over several lines, you can use the backslash character"
   ]
  },
  {
   "cell_type": "code",
   "execution_count": null,
   "metadata": {},
   "outputs": [],
   "source": [
    "#Example in Python\n",
    "long_statement = \"This is a very long statement that \\\n",
    "continues over several lines in order to improve readability. \\\n",
    "You can use the backslash character to indicate the continuation.\""
   ]
  },
  {
   "cell_type": "markdown",
   "metadata": {},
   "source": [
    "you can use semicolons (;) to separate multiple instructions on a single line"
   ]
  },
  {
   "cell_type": "code",
   "execution_count": null,
   "metadata": {},
   "outputs": [],
   "source": [
    "#Multiple instructions in one line using semicolons\n",
    "a = 5; b = 10; c = a + b; print(c)\n"
   ]
  },
  {
   "cell_type": "markdown",
   "metadata": {},
   "source": [
    "Comments\n",
    "\n",
    "As we saw on the previous slide, Python uses the # character as a comment character: Everything\n",
    "that follows the # sign in the same line is taken as a comment and ignored by the interpreter. In\n",
    "addition to single-line comments, it is also possible to write longer comments. ffThey are enclosed\n",
    "by three double inverted commas at the end and beginning:\n"
   ]
  },
  {
   "cell_type": "code",
   "execution_count": null,
   "metadata": {},
   "outputs": [],
   "source": [
    "#single-line comment\n",
    "\n",
    "\n",
    "\"\"\"Multiline\n",
    "comment\n",
    "\"\"\"\n"
   ]
  },
  {
   "cell_type": "markdown",
   "metadata": {},
   "source": [
    "Static typing vs dynamic typing \n",
    "\n",
    "In static Typed languagees you must declare the data type of a variable when you define it, and the compiler checks that the types are used correctly before the program is even run.\n",
    "\n",
    "In a dynamically typed language, the data types of variables are determined at runtime. You don't need to declare the type of a variable explicitly; the interpreter or runtime system figures it out as the program runs.\n"
   ]
  },
  {
   "cell_type": "markdown",
   "metadata": {},
   "source": [
    "Different types of numbers in python:\n",
    "\n",
    "1. integers (integer);\n",
    "2. floating point/decimal numbers (float): Objects of type float can be written as floating point numbers or in exponential notation: 0.0, 3.14,-2.794, 32.3+e18, 9th, -32.54e100\n",
    "3. complex numbers (complex):Complex numbers are of the form a + bJ, where a and b are floating point numbers and J represents the square root of -1, an imaginary number: 3.14j, 9.322e-36j, -.6545+0J, ...\n"
   ]
  },
  {
   "cell_type": "markdown",
   "metadata": {},
   "source": [
    "The functions int(), float(), complex() can be used to convert objects into numbers of the corre\u0002sponding type:"
   ]
  },
  {
   "cell_type": "markdown",
   "metadata": {},
   "source": [
    "+=, -=, *=, /= "
   ]
  },
  {
   "cell_type": "markdown",
   "metadata": {},
   "source": [
    "\\b (Backspace): This control character is used to move the cursor one position backward. It is often used to delete the character to the left of the cursor."
   ]
  },
  {
   "cell_type": "code",
   "execution_count": null,
   "metadata": {},
   "outputs": [],
   "source": [
    "print(\"Hello\\bWorld\")\n"
   ]
  },
  {
   "cell_type": "markdown",
   "metadata": {},
   "source": [
    "\\f (Formfeed): This control character is used to start a new page in printed documents."
   ]
  },
  {
   "cell_type": "markdown",
   "metadata": {},
   "source": [
    "\\n (Newline): This control character is used to represent the end of a line in a text file or a string. It creates a new line."
   ]
  },
  {
   "cell_type": "code",
   "execution_count": 1,
   "metadata": {},
   "outputs": [
    {
     "name": "stdout",
     "output_type": "stream",
     "text": [
      "Line 1\n",
      "Line 2\n"
     ]
    }
   ],
   "source": [
    "print(\"Line 1\\nLine 2\")\n"
   ]
  },
  {
   "cell_type": "markdown",
   "metadata": {},
   "source": [
    "\\t (Tab): This control character is used to insert a horizontal tab. It is often used to create space or indentation."
   ]
  },
  {
   "cell_type": "code",
   "execution_count": 2,
   "metadata": {},
   "outputs": [
    {
     "name": "stdout",
     "output_type": "stream",
     "text": [
      "Column 1\tColumn 2\n"
     ]
    }
   ],
   "source": [
    "print(\"Column 1\\tColumn 2\")"
   ]
  },
  {
   "cell_type": "code",
   "execution_count": 3,
   "metadata": {},
   "outputs": [
    {
     "name": "stdout",
     "output_type": "stream",
     "text": [
      "h\\nallo\n"
     ]
    }
   ],
   "source": [
    "print(r\"h\\nallo\")\n",
    "\n",
    "#r stand for raw twxt which interprete the \\n as a charaxter than new line \n"
   ]
  },
  {
   "cell_type": "markdown",
   "metadata": {},
   "source": [
    "F-strings \n",
    "\n"
   ]
  },
  {
   "cell_type": "code",
   "execution_count": 4,
   "metadata": {},
   "outputs": [
    {
     "name": "stdout",
     "output_type": "stream",
     "text": [
      "Her family owns 12 cats.\n",
      "Her family owns 12 cats.\n"
     ]
    }
   ],
   "source": [
    "cats: int = 12\n",
    "print(f\"Her family owns {cats} cats.\")\n",
    "#or\n",
    "print(f\"Her family owns {3 * 4} cats.\")\n"
   ]
  },
  {
   "cell_type": "code",
   "execution_count": 5,
   "metadata": {},
   "outputs": [
    {
     "name": "stdout",
     "output_type": "stream",
     "text": [
      "Her family owns 12              cats.\n"
     ]
    }
   ],
   "source": [
    "print(f\"Her family owns {3 * 4:<15} cats.\")"
   ]
  },
  {
   "cell_type": "code",
   "execution_count": 7,
   "metadata": {},
   "outputs": [
    {
     "name": "stdout",
     "output_type": "stream",
     "text": [
      "Her family owns              12 cats.\n"
     ]
    }
   ],
   "source": [
    "print(f\"Her family owns {3 * 4:>15} cats.\")"
   ]
  },
  {
   "cell_type": "code",
   "execution_count": 8,
   "metadata": {},
   "outputs": [
    {
     "name": "stdout",
     "output_type": "stream",
     "text": [
      "Her family owns       12        cats.\n"
     ]
    }
   ],
   "source": [
    "print(f\"Her family owns {3 * 4:^15} cats.\")"
   ]
  },
  {
   "cell_type": "code",
   "execution_count": 9,
   "metadata": {},
   "outputs": [
    {
     "data": {
      "text/plain": [
       "'Her family owns ......12....... cats.'"
      ]
     },
     "execution_count": 9,
     "metadata": {},
     "output_type": "execute_result"
    }
   ],
   "source": [
    "f\"Her family owns {3 * 4:.^15} cats.\""
   ]
  },
  {
   "cell_type": "markdown",
   "metadata": {},
   "source": [
    "Association:\n",
    "A function is a standalone block of code.\n",
    "A method is associated with a class or an object.\n",
    "\n",
    "Invocation:\n",
    "Functions are called by their name.\n",
    "Methods are called on objects using dot notation.----> object.method\n",
    "\n",
    "Parameters:\n",
    "Functions may take parameters.\n",
    "Methods often take the object itself as the first parameter (e.g., self in Python)."
   ]
  },
  {
   "cell_type": "code",
   "execution_count": null,
   "metadata": {},
   "outputs": [],
   "source": []
  },
  {
   "cell_type": "code",
   "execution_count": 11,
   "metadata": {},
   "outputs": [
    {
     "name": "stdout",
     "output_type": "stream",
     "text": [
      "Eva Kuhn\n"
     ]
    }
   ],
   "source": [
    "name = \"eva kuhn\"\n",
    "print(name.title())\n"
   ]
  },
  {
   "cell_type": "code",
   "execution_count": 12,
   "metadata": {},
   "outputs": [
    {
     "name": "stdout",
     "output_type": "stream",
     "text": [
      "EVA KUHN\n",
      "eva kuhn\n"
     ]
    }
   ],
   "source": [
    "name = \"Eva Kuhn\"\n",
    "print(name.upper())\n",
    "print(name.lower())\n"
   ]
  },
  {
   "cell_type": "markdown",
   "metadata": {},
   "source": [
    "strip(), lstrip() and rstrip() :\n",
    "\n"
   ]
  },
  {
   "cell_type": "code",
   "execution_count": 17,
   "metadata": {},
   "outputs": [],
   "source": [
    "skript_sprache = '            python            '\n"
   ]
  },
  {
   "cell_type": "code",
   "execution_count": 18,
   "metadata": {},
   "outputs": [
    {
     "data": {
      "text/plain": [
       "'            python'"
      ]
     },
     "execution_count": 18,
     "metadata": {},
     "output_type": "execute_result"
    }
   ],
   "source": [
    "skript_sprache.rstrip()\n"
   ]
  },
  {
   "cell_type": "code",
   "execution_count": 19,
   "metadata": {},
   "outputs": [
    {
     "data": {
      "text/plain": [
       "'python            '"
      ]
     },
     "execution_count": 19,
     "metadata": {},
     "output_type": "execute_result"
    }
   ],
   "source": [
    "skript_sprache.lstrip()\n"
   ]
  },
  {
   "cell_type": "code",
   "execution_count": 20,
   "metadata": {},
   "outputs": [
    {
     "data": {
      "text/plain": [
       "'python'"
      ]
     },
     "execution_count": 20,
     "metadata": {},
     "output_type": "execute_result"
    }
   ],
   "source": [
    "skript_sprache.strip()\n",
    "\n"
   ]
  },
  {
   "cell_type": "markdown",
   "metadata": {},
   "source": [
    "find()\n",
    "\n",
    "You can use the find()-method to search a string x for a given substring y. This method returns the index of the first occurence of the the substring you are looking for; it returns -1 if x does not contain y."
   ]
  },
  {
   "cell_type": "code",
   "execution_count": 21,
   "metadata": {},
   "outputs": [
    {
     "data": {
      "text/plain": [
       "0"
      ]
     },
     "execution_count": 21,
     "metadata": {},
     "output_type": "execute_result"
    }
   ],
   "source": [
    "\"Welcome to the wild, wild west!\".find('W')"
   ]
  },
  {
   "cell_type": "markdown",
   "metadata": {},
   "source": [
    "find() also allows two optional arguments start (default value: 0), end (default value: index of the last character of x) which you can use to specify the range of x in which to search for y. The position specified by start is included in the search; the position specified by end is excluded.\n"
   ]
  },
  {
   "cell_type": "code",
   "execution_count": 22,
   "metadata": {},
   "outputs": [
    {
     "data": {
      "text/plain": [
       "-1"
      ]
     },
     "execution_count": 22,
     "metadata": {},
     "output_type": "execute_result"
    }
   ],
   "source": [
    "\"Welcome to the wild, wild west!\".find('w', 6, 15)\n"
   ]
  },
  {
   "cell_type": "markdown",
   "metadata": {},
   "source": [
    "The split()-method\n",
    "it splits a string and returns as value a list (of strings) representing the result of this split. split() accepts up to two arguments: The first specifies which character(s) will be interpreted as\n",
    "delimiters and the second how many splits should be performed.\n"
   ]
  },
  {
   "cell_type": "code",
   "execution_count": 23,
   "metadata": {},
   "outputs": [
    {
     "data": {
      "text/plain": [
       "['The', 'old', 'dog', 'runs', 'into', 'the', 'field']"
      ]
     },
     "execution_count": 23,
     "metadata": {},
     "output_type": "execute_result"
    }
   ],
   "source": [
    "\"The old rabbit runs into the field\".split()\n",
    "['The', 'old', 'dog', 'runs', 'into', 'the', 'field']\n"
   ]
  },
  {
   "cell_type": "code",
   "execution_count": null,
   "metadata": {},
   "outputs": [],
   "source": [
    "\"The old rabbit runs into the field\".split('a')\n",
    "['The ', 'ld d', 'g runs int', ' the field']"
   ]
  },
  {
   "cell_type": "markdown",
   "metadata": {},
   "source": [
    "With join() a new string can be formed from a sequence of strings, which contains all elements of the sequence and between two elements there is always a specific string:\n",
    "\n",
    "separator.join(sequence)"
   ]
  },
  {
   "cell_type": "code",
   "execution_count": 24,
   "metadata": {},
   "outputs": [
    {
     "data": {
      "text/plain": [
       "'a:-b:-c'"
      ]
     },
     "execution_count": 24,
     "metadata": {},
     "output_type": "execute_result"
    }
   ],
   "source": [
    "':-'.join(['a','b','c'])\n",
    "'a:-b:-c'\n"
   ]
  },
  {
   "cell_type": "markdown",
   "metadata": {},
   "source": [
    "findall()\n",
    "\n",
    "This function takes a regular expression x and a string y as arguments. Optionally, a flag string can be added as a third argument. findall() returns a list of all substrings of y that match x.\n",
    "\n"
   ]
  },
  {
   "cell_type": "code",
   "execution_count": 25,
   "metadata": {},
   "outputs": [
    {
     "data": {
      "text/plain": [
       "['a', 'a', 'a', 'a']"
      ]
     },
     "execution_count": 25,
     "metadata": {},
     "output_type": "execute_result"
    }
   ],
   "source": [
    "import re\n",
    "\n",
    "re.findall('a', 'All animals are equal')"
   ]
  },
  {
   "cell_type": "code",
   "execution_count": 26,
   "metadata": {},
   "outputs": [
    {
     "data": {
      "text/plain": [
       "['A', 'a', 'a', 'a', 'a']"
      ]
     },
     "execution_count": 26,
     "metadata": {},
     "output_type": "execute_result"
    }
   ],
   "source": [
    "re.findall('a', 'All animals are equal', re.I)\n"
   ]
  },
  {
   "cell_type": "markdown",
   "metadata": {},
   "source": [
    "CAN YOU WRITE A SHORT EXPLANATION FOR EACH OF THEM?\n",
    "There are some other flags. The most important ones are the following:\n",
    "re.I - The distinction between upper and lower case is ignored.\n",
    "re.S - The dot (special character: see below) can also stand for a newline character.\n",
    "re.M - Each line start and end is treated like the start / end of a string (see: $ and ^)\n",
    "re.X - Comments can be embedded in the regular expressions."
   ]
  },
  {
   "cell_type": "markdown",
   "metadata": {},
   "source": [
    "sub()\n",
    "Another important function in the re-library is sub(), which allows you to substitute all/some number of occurrences of an expression in a string:\n",
    "\n",
    "re.sub(Pattern, Substitute, String, Count=0)."
   ]
  },
  {
   "cell_type": "code",
   "execution_count": null,
   "metadata": {},
   "outputs": [],
   "source": [
    "re.sub('a', 'o', 'all along the watchtower', 2)\n",
    "#A number argument is optional"
   ]
  },
  {
   "cell_type": "markdown",
   "metadata": {},
   "source": [
    "split()\n",
    "\n",
    "we have two kinds of split: one is split method and another is split function in the re-library .\n",
    "Syntactically, the method is called using the dot-notation:\n",
    "\n",
    "object.method(args*)\n",
    "\n",
    "The function is simply called with its arguments:\n",
    "function(args*)\n"
   ]
  },
  {
   "cell_type": "code",
   "execution_count": 27,
   "metadata": {},
   "outputs": [
    {
     "data": {
      "text/plain": [
       "['\"All',\n",
       " 'along',\n",
       " 'the',\n",
       " 'watchtower\"',\n",
       " 'is',\n",
       " 'a',\n",
       " 'song',\n",
       " 'written',\n",
       " 'by',\n",
       " 'Bob',\n",
       " 'Dylan.']"
      ]
     },
     "execution_count": 27,
     "metadata": {},
     "output_type": "execute_result"
    }
   ],
   "source": [
    "'\"All along the watchtower\" is a song written by Bob Dylan.'.split() #split()-method"
   ]
  },
  {
   "cell_type": "code",
   "execution_count": 28,
   "metadata": {},
   "outputs": [
    {
     "data": {
      "text/plain": [
       "['\"All',\n",
       " 'along',\n",
       " 'the',\n",
       " 'watchtower\"',\n",
       " 'is',\n",
       " 'a',\n",
       " 'song',\n",
       " 'written',\n",
       " 'by',\n",
       " 'Bob',\n",
       " 'Dylan.']"
      ]
     },
     "execution_count": 28,
     "metadata": {},
     "output_type": "execute_result"
    }
   ],
   "source": [
    "re.split(' ','\"All along the watchtower\" is a song written by Bob Dylan.') #split()-function"
   ]
  },
  {
   "cell_type": "markdown",
   "metadata": {},
   "source": [
    "Special Characters\n",
    "\n",
    "[0-7] [01234567]\n",
    "[l-r] [lmnopqr]"
   ]
  },
  {
   "cell_type": "markdown",
   "metadata": {},
   "source": [
    "\n",
    "To find or count all vowels in a string, we simply put them in square backets:"
   ]
  },
  {
   "cell_type": "code",
   "execution_count": null,
   "metadata": {},
   "outputs": [],
   "source": [
    "re.findall('[aeiou]', 'All animals are equal', re.I)"
   ]
  },
  {
   "cell_type": "code",
   "execution_count": null,
   "metadata": {},
   "outputs": [],
   "source": [
    "#The |^| character serves as a negation operator in this case.\n",
    "len(re.findall('[^aeiou]', 'All animals are equal', re.I))"
   ]
  },
  {
   "cell_type": "markdown",
   "metadata": {},
   "source": [
    "the pipe symbol ‘|’\n",
    "you can use the pipe symbol ‘|’ to combine them: …cat|dog… matches a string containing the string cat or the string dog.\n",
    "\n"
   ]
  },
  {
   "cell_type": "code",
   "execution_count": 29,
   "metadata": {},
   "outputs": [
    {
     "data": {
      "text/plain": [
       "['cats', 'dogs', 'dogs', 'cats']"
      ]
     },
     "execution_count": 29,
     "metadata": {},
     "output_type": "execute_result"
    }
   ],
   "source": [
    "re.findall('cats|dogs', 'I like cats and dogs. I have 7 dogs and 12 cats.')\n"
   ]
  },
  {
   "cell_type": "markdown",
   "metadata": {},
   "source": [
    "The regular expression \"Dr\\.\" matches only the string Dr. If you want to search for a backslash in a string, you must deprive it of this special\n",
    "meaning by prefixing it with another backslash: …\\\\\n"
   ]
  },
  {
   "cell_type": "code",
   "execution_count": 30,
   "metadata": {},
   "outputs": [
    {
     "data": {
      "text/plain": [
       "['fan', 'fun', 'fin']"
      ]
     },
     "execution_count": 30,
     "metadata": {},
     "output_type": "execute_result"
    }
   ],
   "source": [
    "re.findall('f.n', 'Every fan had much fun, but finally everyone left.')\n",
    "#here the dot stand for whatever characxter that comes in between "
   ]
  },
  {
   "cell_type": "markdown",
   "metadata": {},
   "source": [
    "Some Special Charcters:\n",
    "[0-9] => \\d\n",
    "[^0-9] => \\D\n",
    "[\\t\\n\\r\\f\\v] => \\s # Class of whitespace characters.\n",
    "[^\\t\\n\\r\\f\\v] => \\S # Complement of \\s.\n",
    "[a-zA-Z0-9_] => \\w\n",
    "[^a-zA-Z0-9_] => \\W # complement of \\w.\n",
    "\n"
   ]
  },
  {
   "cell_type": "markdown",
   "metadata": {},
   "source": [
    "re.sub() and re.split()"
   ]
  },
  {
   "cell_type": "code",
   "execution_count": null,
   "metadata": {},
   "outputs": [],
   "source": [
    "#re.sub()\n",
    "re.sub('[aeiou]', 'x', 'All animals are equal')\n"
   ]
  },
  {
   "cell_type": "code",
   "execution_count": 31,
   "metadata": {},
   "outputs": [
    {
     "data": {
      "text/plain": [
       "'xl ximxs xe equx'"
      ]
     },
     "execution_count": 31,
     "metadata": {},
     "output_type": "execute_result"
    }
   ],
   "source": [
    "#re.sub()\n",
    "re.sub('a.', 'x', 'All animals are equal',0,re.I)\n"
   ]
  },
  {
   "cell_type": "code",
   "execution_count": null,
   "metadata": {},
   "outputs": [],
   "source": [
    "#re.split()\n",
    "re.split('\\s','\"All along the watchtower\" is a song written by Bob Dylan.')"
   ]
  }
 ],
 "metadata": {
  "kernelspec": {
   "display_name": "Python 3 (ipykernel)",
   "language": "python",
   "name": "python3"
  },
  "language_info": {
   "codemirror_mode": {
    "name": "ipython",
    "version": 3
   },
   "file_extension": ".py",
   "mimetype": "text/x-python",
   "name": "python",
   "nbconvert_exporter": "python",
   "pygments_lexer": "ipython3",
   "version": "3.11.5"
  }
 },
 "nbformat": 4,
 "nbformat_minor": 2
}
